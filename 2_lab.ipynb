{
 "cells": [
  {
   "cell_type": "markdown",
   "metadata": {},
   "source": [
    "Напишите скрипт, который читает текстовый файл и выводит символы\n",
    "в порядке убывания частоты встречаемости в тексте. Регистр символа\n",
    "не имеет значения. Программа должна учитывать только буквенные\n",
    "символы (символы пунктуации, цифры и служебные символы слудет\n",
    "игнорировать). Проверьте работу скрипта на нескольких файлах с\n",
    "текстом на английском и русском языках, сравните результаты с\n",
    "таблицами, приведенными в wikipedia.org/wiki/Letter_frequencies"
   ]
  },
  {
   "cell_type": "code",
   "execution_count": 16,
   "metadata": {},
   "outputs": [
    {
     "output_type": "stream",
     "name": "stdout",
     "text": [
      "e - 204\nt - 152\na - 125\ni - 124\ns - 115\nh - 111\nr - 104\nn - 98\no - 95\nd - 63\nc - 57\nl - 50\nm - 47\nf - 41\ng - 32\ny - 29\nu - 26\nw - 19\nb - 18\np - 17\nv - 16\nk - 11\nj - 3\nq - 1\n"
     ]
    }
   ],
   "source": [
    "from collections import Counter\n",
    "\n",
    "try:\n",
    "    counter = Counter()\n",
    "    with open(r'C:\\Users\\Daniil\\Documents\\Python Scripts\\2_lab\\text.txt', 'rt') as f:\n",
    "        lines = f.readlines()\n",
    "except IOError as err:\n",
    "    print(err)\n",
    "    lines = []\n",
    "    \n",
    "newlines = str([x.rstrip() for x in lines]).lower() \n",
    "\n",
    "for sym in newlines:\n",
    "    if sym.isalpha():\n",
    "        counter[sym] += 1\n",
    "        \n",
    "for sym, freq in counter.most_common():\n",
    "    print(sym + ' - ' + str(freq))\n"
   ]
  },
  {
   "cell_type": "markdown",
   "metadata": {},
   "source": [
    "Напишите скрипт, позволяющий искать в заданной директории и в ее\n",
    "подпапках файлы-дубликаты на основе сравнения контрольных сумм\n",
    "(MD5). Файлы могут иметь одинаковое содержимое, но отличаться\n",
    "именами. Скрипт должен вывести группы имен обнаруженных файлов дубликатов"
   ]
  },
  {
   "cell_type": "code",
   "execution_count": 17,
   "metadata": {},
   "outputs": [
    {
     "output_type": "stream",
     "name": "stdout",
     "text": [
      "1 GROUP\nc:\\Users\\Daniil\\Documents\\Python Scripts\\2_lab\\text3.txt\nc:\\Users\\Daniil\\Documents\\Python Scripts\\2_lab\\text3_copy.txt\nc:\\Users\\Daniil\\Documents\\Python Scripts\\2_lab\\text3_copy_2.txt\n2 GROUP\nc:\\Users\\Daniil\\Documents\\Python Scripts\\2_lab\\.git\\ORIG_HEAD\nc:\\Users\\Daniil\\Documents\\Python Scripts\\2_lab\\.git\\refs\\heads\\dev\nc:\\Users\\Daniil\\Documents\\Python Scripts\\2_lab\\.git\\refs\\remotes\\origin\\dev\n3 GROUP\nc:\\Users\\Daniil\\Documents\\Python Scripts\\2_lab\\.git\\logs\\HEAD\nc:\\Users\\Daniil\\Documents\\Python Scripts\\2_lab\\.git\\logs\\refs\\heads\\dev\n4 GROUP\nc:\\Users\\Daniil\\Documents\\Python Scripts\\2_lab\\copy\\text2.txt\nc:\\Users\\Daniil\\Documents\\Python Scripts\\2_lab\\copy\\text2_copy.txt\n5 GROUP\nc:\\Users\\Daniil\\Documents\\Python Scripts\\2_lab\\music\\03. Обнули Нас.mp3\nc:\\Users\\Daniil\\Documents\\Python Scripts\\2_lab\\music\\Ягода Малинка.mp3\n"
     ]
    }
   ],
   "source": [
    "import os\n",
    "from collections import defaultdict\n",
    "import hashlib\n",
    "\n",
    "# Основной код\n",
    "\n",
    "file_dict = defaultdict(list)\n",
    "\n",
    "for directories in os.walk(os.getcwd()):\n",
    "    for file in directories[2]:\n",
    "        with open(r'{0}\\{1}'.format(directories[0], file), 'rb') as f:\n",
    "            content: bytes = f.read()\n",
    "            file_dict[hashlib.md5(content).hexdigest()].append(r'{0}\\{1}'.format(directories[0], file))\n",
    "    \n",
    "file_dict = {k: v for k, v in file_dict.items() if len(file_dict.get(k)) > 1}\n",
    "\n",
    "# Оформление\n",
    "\n",
    "i: int = 1\n",
    "for _, values in file_dict.items():\n",
    "    print(f'{i} GROUP')\n",
    "    for value in values:\n",
    "        print(value)\n",
    "    i += 1"
   ]
  },
  {
   "cell_type": "markdown",
   "metadata": {},
   "source": [
    "Задан путь к директории с музыкальными файлами (в названии\n",
    "которых нет номеров, а только названия песен) и текстовый файл,\n",
    "хранящий полный список песен с номерами и названиями в виде строк\n",
    "формата «01. Freefall [6:12]». Напишите скрипт, который корректирует\n",
    "имена файлов в директории на основе текста списка песен"
   ]
  },
  {
   "cell_type": "code",
   "execution_count": 32,
   "metadata": {},
   "outputs": [],
   "source": [
    "import os\n",
    "import re\n",
    "\n",
    "folder: str = r'C:\\Users\\Daniil\\Documents\\Python Scripts\\2_lab\\music'\n",
    "\n",
    "with open(os.path.join(folder, 'audio_info.txt'), 'r') as f:    \n",
    "    music_names: list = f.readlines() \n",
    "\n",
    "# replace : in 2:28 and delete \\n\n",
    "music_names = [x.rstrip() for x in music_names]\n",
    "for i, music_name in enumerate(music_names):\n",
    "    music_names[i] = music_name[:music_name.rfind(':')] + '.' + music_name[music_name.rfind(':')+1:] + '.mp3'\n",
    "\n",
    "files = [f for f in os.listdir(folder) \n",
    "        if os.path.isfile(os.path.join(folder, f)) and f.endswith('.mp3')]\n",
    "\n",
    "for file in files:\n",
    "    for name in music_names:\n",
    "        if file[:-4] in name:\n",
    "            os.rename(os.path.join(folder, file), os.path.join(folder, name))"
   ]
  },
  {
   "source": [
    "Напишите скрипт, который позволяет ввести с клавиатуры имя\n",
    "текстового файла, найти в нем с помощью регулярных выражений все\n",
    "подстроки определенного вида, в соответствии с вариантом. Например,\n",
    "для варианта № 1 скрипт должен вывести на экран следующее:\n",
    "Строка 3, позиция 10 : найдено '11-05-2014'\n",
    "Строка 12, позиция 2 : найдено '23-11-2014'\n",
    "Строка 12, позиция 17 : найдено '23-11-2014'\n",
    "Вариант 1: найдите все даты – подстроки вида «11-05-2014»."
   ],
   "cell_type": "markdown",
   "metadata": {}
  },
  {
   "cell_type": "code",
   "execution_count": 10,
   "metadata": {},
   "outputs": [
    {
     "output_type": "stream",
     "name": "stdout",
     "text": [
      "[1, 2, 3, 4]\n"
     ]
    }
   ],
   "source": []
  },
  {
   "cell_type": "code",
   "execution_count": null,
   "metadata": {},
   "outputs": [],
   "source": []
  }
 ],
 "metadata": {
  "celltoolbar": "Raw Cell Format",
  "kernelspec": {
   "display_name": "Python 3",
   "language": "python",
   "name": "python3"
  },
  "language_info": {
   "codemirror_mode": {
    "name": "ipython",
    "version": 3
   },
   "file_extension": ".py",
   "mimetype": "text/x-python",
   "name": "python",
   "nbconvert_exporter": "python",
   "pygments_lexer": "ipython3",
   "version": "3.8.5-final"
  }
 },
 "nbformat": 4,
 "nbformat_minor": 4
}