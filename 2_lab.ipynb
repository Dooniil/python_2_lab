{
 "cells": [
  {
   "cell_type": "markdown",
   "metadata": {},
   "source": [
    "Напишите скрипт, который читает текстовый файл и выводит символы\n",
    "в порядке убывания частоты встречаемости в тексте. Регистр символа\n",
    "не имеет значения. Программа должна учитывать только буквенные\n",
    "символы (символы пунктуации, цифры и служебные символы слудет\n",
    "игнорировать). Проверьте работу скрипта на нескольких файлах с\n",
    "текстом на английском и русском языках, сравните результаты с\n",
    "таблицами, приведенными в wikipedia.org/wiki/Letter_frequencies"
   ]
  },
  {
   "cell_type": "code",
   "execution_count": 16,
   "metadata": {},
   "outputs": [
    {
     "output_type": "stream",
     "name": "stdout",
     "text": [
      "e - 204\nt - 152\na - 125\ni - 124\ns - 115\nh - 111\nr - 104\nn - 98\no - 95\nd - 63\nc - 57\nl - 50\nm - 47\nf - 41\ng - 32\ny - 29\nu - 26\nw - 19\nb - 18\np - 17\nv - 16\nk - 11\nj - 3\nq - 1\n"
     ]
    }
   ],
   "source": [
    "from collections import Counter\n",
    "\n",
    "try:\n",
    "    counter = Counter()\n",
    "    with open(r'C:\\Users\\Daniil\\Documents\\Python Scripts\\2_lab\\text.txt', 'rt') as f:\n",
    "        lines = f.readlines()\n",
    "except IOError as err:\n",
    "    print(err)\n",
    "    lines = []\n",
    "    \n",
    "newlines = str([x.rstrip() for x in lines]).lower() \n",
    "\n",
    "for sym in newlines:\n",
    "    if sym.isalpha():\n",
    "        counter[sym] += 1\n",
    "        \n",
    "for sym, freq in counter.most_common():\n",
    "    print(sym + ' - ' + str(freq))\n"
   ]
  },
  {
   "cell_type": "markdown",
   "metadata": {},
   "source": [
    "Напишите скрипт, позволяющий искать в заданной директории и в ее\n",
    "подпапках файлы-дубликаты на основе сравнения контрольных сумм\n",
    "(MD5). Файлы могут иметь одинаковое содержимое, но отличаться\n",
    "именами. Скрипт должен вывести группы имен обнаруженных файлов дубликатов"
   ]
  },
  {
   "cell_type": "code",
   "execution_count": 5,
   "metadata": {},
   "outputs": [
    {
     "output_type": "stream",
     "name": "stdout",
     "text": [
      "1 GROUP\nc:\\Users\\Daniil\\Documents\\Python Scripts\\2_lab\\text3.txt\nc:\\Users\\Daniil\\Documents\\Python Scripts\\2_lab\\text3_copy.txt\nc:\\Users\\Daniil\\Documents\\Python Scripts\\2_lab\\text3_copy_2.txt\n2 GROUP\nc:\\Users\\Daniil\\Documents\\Python Scripts\\2_lab\\.git\\logs\\HEAD\nc:\\Users\\Daniil\\Documents\\Python Scripts\\2_lab\\.git\\logs\\refs\\heads\\dev\n3 GROUP\nc:\\Users\\Daniil\\Documents\\Python Scripts\\2_lab\\.git\\refs\\heads\\dev\nc:\\Users\\Daniil\\Documents\\Python Scripts\\2_lab\\.git\\refs\\remotes\\origin\\dev\n4 GROUP\nc:\\Users\\Daniil\\Documents\\Python Scripts\\2_lab\\copy\\text2.txt\nc:\\Users\\Daniil\\Documents\\Python Scripts\\2_lab\\copy\\text2_copy.txt\n5 GROUP\nc:\\Users\\Daniil\\Documents\\Python Scripts\\2_lab\\music\\01. Ягода Малинка 2.28.mp3\nc:\\Users\\Daniil\\Documents\\Python Scripts\\2_lab\\music\\03. Обнули Нас 2.41.mp3\n"
     ]
    }
   ],
   "source": [
    "import os\n",
    "from collections import defaultdict\n",
    "import hashlib\n",
    "\n",
    "# Основной код\n",
    "\n",
    "file_dict = defaultdict(list)\n",
    "\n",
    "for directories in os.walk(os.getcwd()):\n",
    "    for file in directories[2]:\n",
    "        with open(r'{0}\\{1}'.format(directories[0], file), 'rb') as f:\n",
    "            content: bytes = f.read()\n",
    "            file_dict[hashlib.md5(content).hexdigest()].append(r'{0}\\{1}'.format(directories[0], file))\n",
    "    \n",
    "file_dict = {k: v for k, v in file_dict.items() if len(file_dict.get(k)) > 1}\n",
    "\n",
    "# Оформление\n",
    "\n",
    "i: int = 1\n",
    "for _, values in file_dict.items():\n",
    "    print(f'{i} GROUP')\n",
    "    for value in values:\n",
    "        print(value)\n",
    "    i += 1"
   ]
  },
  {
   "cell_type": "markdown",
   "metadata": {},
   "source": [
    "Задан путь к директории с музыкальными файлами (в названии\n",
    "которых нет номеров, а только названия песен) и текстовый файл,\n",
    "хранящий полный список песен с номерами и названиями в виде строк\n",
    "формата «01. Freefall [6:12]». Напишите скрипт, который корректирует\n",
    "имена файлов в директории на основе текста списка песен"
   ]
  },
  {
   "cell_type": "code",
   "execution_count": 2,
   "metadata": {},
   "outputs": [],
   "source": [
    "import os\n",
    "\n",
    "folder: str = r'C:\\Users\\Daniil\\Documents\\Python Scripts\\2_lab\\music'\n",
    "\n",
    "with open(os.path.join(folder, 'audio_info.txt'), 'r') as f:    \n",
    "    music_names: list = f.readlines() \n",
    "\n",
    "# replace : in 2:28 and delete \\n\n",
    "music_names = [x.rstrip() for x in music_names]\n",
    "for i, music_name in enumerate(music_names):\n",
    "    music_names[i] = music_name[:music_name.rfind(':')] + '.' + music_name[music_name.rfind(':')+1:] + '.mp3'\n",
    "\n",
    "files = [f for f in os.listdir(folder) \n",
    "        if os.path.isfile(os.path.join(folder, f)) and f.endswith('.mp3')]\n",
    "\n",
    "for file in files:\n",
    "    for name in music_names:\n",
    "        if file[:-4] in name: os.rename(os.path.join(folder, file), os.path.join(folder, name))"
   ]
  },
  {
   "source": [
    "Напишите скрипт, который позволяет ввести с клавиатуры имя\n",
    "текстового файла, найти в нем с помощью регулярных выражений все\n",
    "подстроки определенного вида, в соответствии с вариантом. Например,\n",
    "для варианта № 1 скрипт должен вывести на экран следующее:\n",
    "Строка 3, позиция 10 : найдено '11-05-2014'\n",
    "Строка 12, позиция 2 : найдено '23-11-2014'\n",
    "Строка 12, позиция 17 : найдено '23-11-2014'\n",
    "Вариант 1: найдите все даты – подстроки вида «11-05-2014»."
   ],
   "cell_type": "markdown",
   "metadata": {}
  },
  {
   "cell_type": "code",
   "execution_count": 3,
   "metadata": {},
   "outputs": [
    {
     "output_type": "stream",
     "name": "stdout",
     "text": [
      "Строка 2, позиция 13 : найдено 16-02-2021\nСтрока 2, позиция 45 : найдено 12-02-2021\nСтрока 3, позиция 22 : найдено 14-02-2029\nСтрока 5, позиция 14 : найдено 13-02-2021\nСтрока 6, позиция 23 : найдено 14-02-2021\nСтрока 10, позиция 1 : найдено 13-02-2021\n"
     ]
    }
   ],
   "source": [
    "import os\n",
    "import re\n",
    "\n",
    "file_name: str = 'data.txt'\n",
    "\n",
    "with open(os.path.join(os.getcwd(), file_name), 'r') as f:\n",
    "    lines: list = f.readlines()\n",
    "\n",
    "found: list = []\n",
    "for i, line in enumerate(lines):\n",
    "    elem: list = re.findall(r'\\d*-\\d*-\\d*', line), i+1\n",
    "    if elem: found.append(elem)\n",
    "\n",
    "for elem, i in found:\n",
    "    for x in elem:\n",
    "        print(f'Строка {i}, позиция {lines[i-1].find(x)} : найдено {x}')"
   ]
  },
  {
   "source": [
    "Введите с клавиатуры текст. Программно найдите в нем и выведите\n",
    "отдельно все слова, которые начинаются с большого латинского\n",
    "символа (от A до Z) и заканчиваются 2 или 4 цифрами, например\n",
    "«Petr93», «Johnny70», «Service2002». Используйте регулярные\n",
    "выражения"
   ],
   "cell_type": "markdown",
   "metadata": {}
  },
  {
   "cell_type": "code",
   "execution_count": 3,
   "metadata": {},
   "outputs": [
    {
     "output_type": "stream",
     "name": "stdout",
     "text": [
      "['Jons93', 'Servise2020']\n"
     ]
    }
   ],
   "source": [
    "from re import findall\n",
    "\n",
    "text: str = 'Jons93 dont have anything in his life. So Johnny10234 and Katrine1 dont want to be \\\n",
    "        happy. They want to be unhappy and have Servise2020 but not servise2020'\n",
    "\n",
    "found_words: list = findall(r'\\b[A-Z][a-z0-9]*[a-z]\\d{2,4}\\b', text)\n",
    "print(found_words)\n"
   ]
  },
  {
   "source": [
    "Напишите скрипт reorganize.py, который в директории --source создает\n",
    "две директории: Archive и Small. В первую директорию помещаются\n",
    "файлы с датой изменения, отличающейся от текущей даты на\n",
    "количество дней более параметра --days (т.е. относительно старые\n",
    "файлы). Во вторую – все файлы размером меньше параметра --size байт.\n",
    "Каждая директория должна создаваться только в случае, если найден\n",
    "хотя бы один файл, который должен быть в нее помещен. Пример\n",
    "вызова"
   ],
   "cell_type": "markdown",
   "metadata": {}
  },
  {
   "cell_type": "code",
   "execution_count": 7,
   "metadata": {},
   "outputs": [
    {
     "output_type": "error",
     "ename": "TypeError",
     "evalue": "cannot unpack non-iterable int object",
     "traceback": [
      "\u001b[1;31m---------------------------------------------------------------------------\u001b[0m",
      "\u001b[1;31mValueError\u001b[0m                                Traceback (most recent call last)",
      "\u001b[1;32m<ipython-input-7-0ff46ecb67ce>\u001b[0m in \u001b[0;36m<module>\u001b[1;34m\u001b[0m\n\u001b[0;32m      6\u001b[0m \u001b[1;32mtry\u001b[0m\u001b[1;33m:\u001b[0m\u001b[1;33m\u001b[0m\u001b[1;33m\u001b[0m\u001b[0m\n\u001b[1;32m----> 7\u001b[1;33m     \u001b[0m_\u001b[0m\u001b[1;33m,\u001b[0m \u001b[0msource\u001b[0m\u001b[1;33m,\u001b[0m \u001b[0mdays\u001b[0m\u001b[1;33m,\u001b[0m \u001b[0msize\u001b[0m \u001b[1;33m=\u001b[0m \u001b[0margv\u001b[0m\u001b[1;33m\u001b[0m\u001b[1;33m\u001b[0m\u001b[0m\n\u001b[0m\u001b[0;32m      8\u001b[0m \u001b[1;32mexcept\u001b[0m \u001b[0mValueError\u001b[0m\u001b[1;33m:\u001b[0m\u001b[1;33m\u001b[0m\u001b[1;33m\u001b[0m\u001b[0m\n",
      "\u001b[1;31mValueError\u001b[0m: too many values to unpack (expected 4)",
      "\nDuring handling of the above exception, another exception occurred:\n",
      "\u001b[1;31mTypeError\u001b[0m                                 Traceback (most recent call last)",
      "\u001b[1;32m<ipython-input-7-0ff46ecb67ce>\u001b[0m in \u001b[0;36m<module>\u001b[1;34m\u001b[0m\n\u001b[0;32m      8\u001b[0m \u001b[1;32mexcept\u001b[0m \u001b[0mValueError\u001b[0m\u001b[1;33m:\u001b[0m\u001b[1;33m\u001b[0m\u001b[1;33m\u001b[0m\u001b[0m\n\u001b[0;32m      9\u001b[0m     \u001b[0msource\u001b[0m \u001b[1;33m=\u001b[0m \u001b[0mos\u001b[0m\u001b[1;33m.\u001b[0m\u001b[0mgetcwd\u001b[0m\u001b[1;33m(\u001b[0m\u001b[1;33m)\u001b[0m\u001b[1;33m\u001b[0m\u001b[1;33m\u001b[0m\u001b[0m\n\u001b[1;32m---> 10\u001b[1;33m     \u001b[0mdays\u001b[0m\u001b[1;33m,\u001b[0m \u001b[0msize\u001b[0m \u001b[1;33m=\u001b[0m \u001b[1;36m0\u001b[0m\u001b[1;33m\u001b[0m\u001b[1;33m\u001b[0m\u001b[0m\n\u001b[0m\u001b[0;32m     11\u001b[0m \u001b[1;33m\u001b[0m\u001b[0m\n\u001b[0;32m     12\u001b[0m \u001b[0mreorganize\u001b[0m\u001b[1;33m(\u001b[0m\u001b[0msource\u001b[0m\u001b[1;33m,\u001b[0m \u001b[0mdays\u001b[0m\u001b[1;33m,\u001b[0m \u001b[0msize\u001b[0m\u001b[1;33m)\u001b[0m\u001b[1;33m\u001b[0m\u001b[1;33m\u001b[0m\u001b[0m\n",
      "\u001b[1;31mTypeError\u001b[0m: cannot unpack non-iterable int object"
     ]
    }
   ],
   "source": [
    "import os\n",
    "from sys import argv\n",
    "\n",
    "def reorganize(source: str, days: int, size: int):\n",
    "    pass\n",
    "try:\n",
    "    _, source, days, size = argv\n",
    "except ValueError:\n",
    "    source = os.getcwd()\n",
    "    days = 0\n",
    "    size = 0\n",
    "    \n",
    "reorganize(source, days, size)"
   ]
  },
  {
   "cell_type": "code",
   "execution_count": null,
   "metadata": {},
   "outputs": [],
   "source": []
  }
 ],
 "metadata": {
  "celltoolbar": "Raw Cell Format",
  "kernelspec": {
   "display_name": "Python 3",
   "language": "python",
   "name": "python3"
  },
  "language_info": {
   "codemirror_mode": {
    "name": "ipython",
    "version": 3
   },
   "file_extension": ".py",
   "mimetype": "text/x-python",
   "name": "python",
   "nbconvert_exporter": "python",
   "pygments_lexer": "ipython3",
   "version": "3.8.5-final"
  }
 },
 "nbformat": 4,
 "nbformat_minor": 4
}