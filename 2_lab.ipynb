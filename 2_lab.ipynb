{
 "cells": [
  {
   "cell_type": "markdown",
   "metadata": {},
   "source": [
    "Напишите скрипт, который читает текстовый файл и выводит символы\n",
    "в порядке убывания частоты встречаемости в тексте. Регистр символа\n",
    "не имеет значения. Программа должна учитывать только буквенные\n",
    "символы (символы пунктуации, цифры и служебные символы слудет\n",
    "игнорировать). Проверьте работу скрипта на нескольких файлах с\n",
    "текстом на английском и русском языках, сравните результаты с\n",
    "таблицами, приведенными в wikipedia.org/wiki/Letter_frequencies"
   ]
  },
  {
   "cell_type": "code",
   "execution_count": 4,
   "metadata": {},
   "outputs": [
    {
     "name": "stdout",
     "output_type": "stream",
     "text": [
      "e - 204\n",
      "t - 152\n",
      "a - 125\n",
      "i - 124\n",
      "s - 115\n",
      "h - 111\n",
      "r - 104\n",
      "n - 98\n",
      "o - 95\n",
      "d - 63\n",
      "c - 57\n",
      "l - 50\n",
      "m - 47\n",
      "f - 41\n",
      "g - 32\n",
      "y - 29\n",
      "u - 26\n",
      "w - 19\n",
      "b - 18\n",
      "p - 17\n",
      "v - 16\n",
      "k - 11\n",
      "j - 3\n",
      "q - 1\n"
     ]
    }
   ],
   "source": [
    "from collections import Counter\n",
    "\n",
    "try:\n",
    "    counter = Counter()\n",
    "    with open(r'C:\\Users\\Daniil\\Documents\\Python Scripts\\2_lab\\text.txt', 'rt') as f:\n",
    "        lines = f.readlines()\n",
    "except IOError as err:\n",
    "    print(err)\n",
    "    lines = []\n",
    "    \n",
    "newlines = str([x.rstrip() for x in lines]).lower() \n",
    "\n",
    "for sym in newlines:\n",
    "    if sym.isalpha():\n",
    "        counter[sym] += 1\n",
    "        \n",
    "for sym, freq in counter.most_common():\n",
    "    print(sym + ' - ' + str(freq))\n"
   ]
  },
  {
   "cell_type": "markdown",
   "metadata": {},
   "source": [
    "Напишите скрипт, позволяющий искать в заданной директории и в ее\n",
    "подпапках файлы-дубликаты на основе сравнения контрольных сумм\n",
    "(MD5). Файлы могут иметь одинаковое содержимое, но отличаться\n",
    "именами. Скрипт должен вывести группы имен обнаруженных файлов дубликатов"
   ]
  },
  {
   "cell_type": "code",
   "execution_count": 64,
   "metadata": {},
   "outputs": [
    {
     "name": "stdout",
     "output_type": "stream",
     "text": [
      "1 GROUP\n",
      "C:\\Users\\Daniil\\Documents\\Python Scripts\\2_lab\\text3.txt\n",
      "C:\\Users\\Daniil\\Documents\\Python Scripts\\2_lab\\text3_copy.txt\n",
      "C:\\Users\\Daniil\\Documents\\Python Scripts\\2_lab\\text3_copy_2.txt\n",
      "2 GROUP\n",
      "C:\\Users\\Daniil\\Documents\\Python Scripts\\2_lab\\copy\\text2.txt\n",
      "C:\\Users\\Daniil\\Documents\\Python Scripts\\2_lab\\copy\\text2_copy.txt\n"
     ]
    }
   ],
   "source": [
    "import os\n",
    "from collections import defaultdict\n",
    "import hashlib\n",
    "\n",
    "# Основной код\n",
    "\n",
    "file_dict = defaultdict(list)\n",
    "\n",
    "for directories in os.walk(os.getcwd()):\n",
    "    for file in directories[2]:\n",
    "        with open(r'{0}\\{1}'.format(directories[0], file), 'r') as f:\n",
    "            content = f.read().encode('utf-8')\n",
    "            file_dict[hashlib.md5(content).hexdigest()].append(r'{0}\\{1}'.format(directories[0], file))\n",
    "    \n",
    "file_dict = {k: v for k, v in file_dict.items() if len(file_dict.get(k)) > 1}\n",
    "\n",
    "# Оформление\n",
    "\n",
    "i = 1\n",
    "for _, values in file_dict.items():\n",
    "    print(f'{i} GROUP')\n",
    "    for value in values:\n",
    "        print(value)\n",
    "    i += 1"
   ]
  },
  {
   "cell_type": "markdown",
   "metadata": {},
   "source": [
    "Задан путь к директории с музыкальными файлами (в названии\n",
    "которых нет номеров, а только названия песен) и текстовый файл,\n",
    "хранящий полный список песен с номерами и названиями в виде строк\n",
    "формата «01. Freefall [6:12]». Напишите скрипт, который корректирует\n",
    "имена файлов в директории на основе текста списка песен"
   ]
  },
  {
   "cell_type": "code",
   "execution_count": null,
   "metadata": {},
   "outputs": [],
   "source": []
  }
 ],
 "metadata": {
  "celltoolbar": "Raw Cell Format",
  "kernelspec": {
   "display_name": "Python 3",
   "language": "python",
   "name": "python3"
  },
  "language_info": {
   "codemirror_mode": {
    "name": "ipython",
    "version": 3
   },
   "file_extension": ".py",
   "mimetype": "text/x-python",
   "name": "python",
   "nbconvert_exporter": "python",
   "pygments_lexer": "ipython3",
   "version": "3.8.5"
  }
 },
 "nbformat": 4,
 "nbformat_minor": 4
}
